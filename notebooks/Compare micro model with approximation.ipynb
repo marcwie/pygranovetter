{
 "cells": [
  {
   "cell_type": "code",
   "execution_count": null,
   "id": "7b12a2a5",
   "metadata": {},
   "outputs": [],
   "source": [
    "from pygranovetter import Micromodel, Macromodel\n",
    "from matplotlib import pyplot as plt\n",
    "import numpy as np"
   ]
  },
  {
   "cell_type": "code",
   "execution_count": null,
   "id": "c51a7fa0",
   "metadata": {},
   "outputs": [],
   "source": [
    "# Set model parameters\n",
    "N = 10000\n",
    "K = 10\n",
    "RHO = 0.4"
   ]
  },
  {
   "cell_type": "code",
   "execution_count": null,
   "id": "0a8305f7",
   "metadata": {},
   "outputs": [],
   "source": [
    "# Initialize models\n",
    "micro = Micromodel(number_of_nodes=N, average_degree=K, micro_threshold=RHO)\n",
    "macro = Macromodel(micro_threshold=RHO, average_degree=K)"
   ]
  },
  {
   "cell_type": "code",
   "execution_count": null,
   "id": "f81639c7",
   "metadata": {},
   "outputs": [],
   "source": [
    "# Run micromodel for varying number of certainly active nodes\n",
    "certainly_active = np.logspace(-10, np.log10(N)).astype(int)\n",
    "micro.run(certainly_active=certainly_active, n_runs=1)"
   ]
  },
  {
   "cell_type": "code",
   "execution_count": null,
   "id": "5e43e4c1",
   "metadata": {},
   "outputs": [],
   "source": [
    "# Plot emergent threshold distribution from micromodel\n",
    "x, y = micro.emergent_threshold_distribution()\n",
    "plt.scatter(x, y)\n",
    "\n",
    "# Plot macroscopic approximation\n",
    "plt.plot(macro.x(), macro.effective_thresholds())\n",
    "\n",
    "plt.xlabel(\"Share of acting nodes $r(t)$\")\n",
    "plt.ylabel(\"Normalized share of acting\\nnodes $(r(t+1) - a) / c$\")"
   ]
  }
 ],
 "metadata": {
  "kernelspec": {
   "display_name": "Python 3 (ipykernel)",
   "language": "python",
   "name": "python3"
  },
  "language_info": {
   "codemirror_mode": {
    "name": "ipython",
    "version": 3
   },
   "file_extension": ".py",
   "mimetype": "text/x-python",
   "name": "python",
   "nbconvert_exporter": "python",
   "pygments_lexer": "ipython3",
   "version": "3.9.7"
  }
 },
 "nbformat": 4,
 "nbformat_minor": 5
}
